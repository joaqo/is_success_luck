{
 "cells": [
  {
   "cell_type": "markdown",
   "metadata": {},
   "source": [
    "# Is Success Luck or Hard Work?\n",
    "\n",
    "This short script is basically me checking out how not just looking at luck, but also looking at how skill is distributed, affects the results of the experiment proposed at [this time stamp](https://youtu.be/3LopI4YeC4I?t=212) of the youtube video."
   ]
  },
  {
   "cell_type": "code",
   "execution_count": 1,
   "metadata": {},
   "outputs": [],
   "source": [
    "import numpy as np\n",
    "from functools import partial\n",
    "from numpy.random import uniform, normal\n",
    "\n",
    "number_of_candidates = 18_300\n",
    "number_of_graduates = 11\n",
    "skill_weight = 0.95\n",
    "luck_weight = 0.05\n",
    "number_of_simulations = 1000"
   ]
  },
  {
   "cell_type": "code",
   "execution_count": 2,
   "metadata": {},
   "outputs": [],
   "source": [
    "def how_many_wouldve_graduated_anyway(random_function):\n",
    "    simulations_results = np.empty(number_of_simulations)\n",
    "    for simulation_number in range(number_of_simulations):\n",
    "        # Generate random test results\n",
    "        test_results = random_function(size=(number_of_candidates, 3))\n",
    "        test_results[:, 0] *= skill_weight  # skill\n",
    "        test_results[:, 1] *= luck_weight  # luck\n",
    "        test_results[:, 2] = test_results[:, 0] + test_results[:, 1]  # total score\n",
    "        \n",
    "        # Truncate random numbers between 0 and 100\n",
    "        test_results[test_results > 100] = 100\n",
    "        test_results[test_results < 0] = 0\n",
    "        \n",
    "        # Select top 11 candidates who will graduate, plus the top non-graduate to act\n",
    "        # as 'graduatability' threshold\n",
    "        top_k = number_of_graduates + 1\n",
    "        top_candidates_indexes = np.argpartition(test_results[:, 2], -top_k)[-top_k:]\n",
    "        top_candidates = test_results[top_candidates_indexes]\n",
    "\n",
    "        # Get graduation threshold score\n",
    "        top_non_graduate_index = np.argmin(top_candidates[:, 2])\n",
    "        graduation_threshold_score = top_candidates[top_non_graduate_index][2]\n",
    "\n",
    "        # Get number of graduates who would've graduated with their luck set to 0\n",
    "        graduates = np.delete(top_candidates, top_non_graduate_index, axis=0)\n",
    "        number_who_wouldve_graduated_anyway = np.sum(graduates[:, 0] > graduation_threshold_score)\n",
    "        simulations_results[simulation_number] = number_who_wouldve_graduated_anyway\n",
    "        \n",
    "    return np.mean(simulations_results)"
   ]
  },
  {
   "cell_type": "code",
   "execution_count": 3,
   "metadata": {},
   "outputs": [
    {
     "data": {
      "text/plain": [
       "1.503"
      ]
     },
     "execution_count": 3,
     "metadata": {},
     "output_type": "execute_result"
    }
   ],
   "source": [
    "# Here I get a similar result to the one mentioned in the video.\n",
    "how_many_wouldve_graduated_anyway(\n",
    "    partial(normal, loc=50, scale=5)\n",
    ")"
   ]
  },
  {
   "cell_type": "code",
   "execution_count": 4,
   "metadata": {},
   "outputs": [
    {
     "data": {
      "text/plain": [
       "4.185"
      ]
     },
     "execution_count": 4,
     "metadata": {},
     "output_type": "execute_result"
    }
   ],
   "source": [
    "# But I can change it if I increase the spread of the data.\n",
    "# So if I didn't screw anything up, it would seem that luck's\n",
    "# influence is actually dependent on how rare skill is.\n",
    "how_many_wouldve_graduated_anyway(\n",
    "    partial(normal, loc=50, scale=10)\n",
    ")"
   ]
  },
  {
   "cell_type": "code",
   "execution_count": 5,
   "metadata": {},
   "outputs": [
    {
     "data": {
      "text/plain": [
       "0.0"
      ]
     },
     "execution_count": 5,
     "metadata": {},
     "output_type": "execute_result"
    }
   ],
   "source": [
    "# As expected, luck is necessary when skill is uniformly distributed.\n",
    "how_many_wouldve_graduated_anyway(\n",
    "    partial(uniform, low=0, high=100)\n",
    ")"
   ]
  },
  {
   "cell_type": "code",
   "execution_count": 6,
   "metadata": {},
   "outputs": [],
   "source": [
    "# PD: I guess I could've mantained the luck distribution fixed among tests,\n",
    "# but I got lazy. I think I would've gotten similar results though.\n",
    "\n",
    "# Veritasium rocks!"
   ]
  }
 ],
 "metadata": {
  "kernelspec": {
   "display_name": "Python 3",
   "language": "python",
   "name": "python3"
  },
  "language_info": {
   "codemirror_mode": {
    "name": "ipython",
    "version": 3
   },
   "file_extension": ".py",
   "mimetype": "text/x-python",
   "name": "python",
   "nbconvert_exporter": "python",
   "pygments_lexer": "ipython3",
   "version": "3.7.7"
  }
 },
 "nbformat": 4,
 "nbformat_minor": 4
}
